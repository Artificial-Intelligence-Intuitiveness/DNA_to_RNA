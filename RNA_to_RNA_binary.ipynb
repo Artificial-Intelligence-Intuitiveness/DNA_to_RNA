{
 "cells": [
  {
   "cell_type": "markdown",
   "metadata": {},
   "source": [
    "RNA to RNA binary convolutional autoencoder\n",
    "by Ivan Klimuk"
   ]
  },
  {
   "cell_type": "code",
   "execution_count": 2,
   "metadata": {},
   "outputs": [
    {
     "name": "stderr",
     "output_type": "stream",
     "text": [
      "Using TensorFlow backend.\n"
     ]
    }
   ],
   "source": [
    "# import some stuff\n",
    "\n",
    "import pandas as pd\n",
    "import numpy as np\n",
    "import matplotlib.pyplot as plt\n",
    "from keras.layers import Input, Dense, Dropout, Lambda,  Conv2D, MaxPooling2D, UpSampling2D\n",
    "from keras.models import Model\n",
    "from keras import backend as B\n",
    "from keras import regularizers\n",
    "from keras.layers.normalization import BatchNormalization\n",
    "from keras.callbacks import TensorBoard\n",
    "from random import sample\n",
    "import os\n",
    "os.chdir('D:\\\\Studies\\\\MicroarrayToRNAseq')"
   ]
  },
  {
   "cell_type": "code",
   "execution_count": 14,
   "metadata": {
    "collapsed": true
   },
   "outputs": [],
   "source": [
    "# custom metric (ratio of mistake distance to the length of the original vector)\n",
    "\n",
    "def dist_error(y, y_pred):\n",
    "    dist = B.sqrt(B.sum((y - y_pred)**2))\n",
    "    y_length = B.sqrt(B.sum(y**2))\n",
    "    return dist/y_length"
   ]
  },
  {
   "cell_type": "code",
   "execution_count": 9,
   "metadata": {
    "collapsed": true
   },
   "outputs": [],
   "source": [
    "# metric (the R2 coefficient of determination)\n",
    "\n",
    "def R2_score(y_true, y_pred):\n",
    "    SS_res =  B.sum(B.square( y_true-y_pred )) \n",
    "    SS_tot = B.sum(B.square( y_true - B.mean(y_true) ) ) \n",
    "    return ( 1 - SS_res/(SS_tot + B.epsilon()) )"
   ]
  },
  {
   "cell_type": "code",
   "execution_count": 13,
   "metadata": {
    "collapsed": true
   },
   "outputs": [],
   "source": [
    "# function which converts the RNA data to binary mode width 20 digits per value (might be changed)\n",
    "\n",
    "def RNA_binary(RNA, digits=20):\n",
    "    binary = []\n",
    "    for i in range(len(RNA)):\n",
    "        binary.append([])\n",
    "        for value in RNA[i]:\n",
    "            bin_value = bin(int(round(value)))\n",
    "            for k in range(digits-len(bin_value)+2):\n",
    "                binary[i].append(0)\n",
    "            for k in range(2, len(bin_value)):\n",
    "                binary[i].append(int(bin_value[k]))\n",
    "    return np.array(binary)     "
   ]
  },
  {
   "cell_type": "code",
   "execution_count": 15,
   "metadata": {},
   "outputs": [
    {
     "name": "stdout",
     "output_type": "stream",
     "text": [
      "RNA object:\n",
      "[  479.  1062.   369.  4217.   689.   963.   595.  1144.   589.  1639.\n",
      "  1347.   357.  1540.  1167.  5674.  3513.  6042.  4449.  3667.  9236.\n",
      "  5262.  7235.  3220.  1166.  2175.  2295.  3130.   787.  3674.  3185.\n",
      "  1168.  2321.]\n"
     ]
    }
   ],
   "source": [
    "# load our data\n",
    "\n",
    "object_length = 32\n",
    "\n",
    "RNA = np.loadtxt('./data/rnaseq.txt', skiprows=1, usecols=range(1,object_length+1))\n",
    "\n",
    "print('RNA object:')\n",
    "print(RNA[0])"
   ]
  },
  {
   "cell_type": "code",
   "execution_count": 16,
   "metadata": {},
   "outputs": [
    {
     "name": "stdout",
     "output_type": "stream",
     "text": [
      "RNA binary object:\n",
      "[0 0 0 0 0 0 0 0 0 0 0 1 1 1 0 1 1 1 1 1 0 0 0 0 0 0 0 0 0 1 0 0 0 0 1 0 0\n",
      " 1 1 0 0 0 0 0 0 0 0 0 0 0 0 1 0 1 1 1 0 0 0 1 0 0 0 0 0 0 0 1 0 0 0 0 0 1\n",
      " 1 1 1 0 0 1 0 0 0 0 0 0 0 0 0 0 1 0 1 0 1 1 0 0 0 1 0 0 0 0 0 0 0 0 0 0 1\n",
      " 1 1 1 0 0 0 0 1 1 0 0 0 0 0 0 0 0 0 0 1 0 0 1 0 1 0 0 1 1 0 0 0 0 0 0 0 0\n",
      " 0 1 0 0 0 1 1 1 1 0 0 0 0 0 0 0 0 0 0 0 0 0 1 0 0 1 0 0 1 1 0 1 0 0 0 0 0\n",
      " 0 0 0 0 1 1 0 0 1 1 0 0 1 1 1 0 0 0 0 0 0 0 0 0 1 0 1 0 1 0 0 0 0 1 1 0 0\n",
      " 0 0 0 0 0 0 0 0 0 1 0 1 1 0 0 1 0 1 0 0 0 0 0 0 0 0 0 1 1 0 0 0 0 0 0 1 0\n",
      " 0 0 0 0 0 0 0 0 0 0 1 0 0 1 0 0 0 1 1 1 1 0 0 0 0 0 0 0 1 0 1 1 0 0 0 1 0\n",
      " 1 0 1 0 0 0 0 0 0 0 0 0 1 1 0 1 1 0 1 1 1 0 0 1 0 0 0 0 0 0 0 1 0 1 1 1 1\n",
      " 0 0 1 1 0 1 0 0 0 0 0 0 0 0 1 0 0 0 1 0 1 1 0 0 0 0 1 0 0 0 0 0 0 0 0 1 1\n",
      " 1 0 0 1 0 1 0 0 1 1 0 0 0 0 0 0 1 0 0 1 0 0 0 0 0 1 0 1 0 0 0 0 0 0 0 0 0\n",
      " 1 0 1 0 0 1 0 0 0 1 1 1 0 0 0 0 0 0 0 0 1 1 1 0 0 0 1 0 0 0 0 1 1 0 0 0 0\n",
      " 0 0 0 0 1 1 0 0 1 0 0 1 0 1 0 0 0 0 0 0 0 0 0 0 0 1 0 0 1 0 0 0 1 1 1 0 0\n",
      " 0 0 0 0 0 0 0 1 0 0 0 0 1 1 1 1 1 1 1 0 0 0 0 0 0 0 0 1 0 0 0 1 1 1 1 0 1\n",
      " 1 1 0 0 0 0 0 0 0 0 1 1 0 0 0 0 1 1 1 0 1 0 0 0 0 0 0 0 0 0 0 0 1 1 0 0 0\n",
      " 1 0 0 1 1 0 0 0 0 0 0 0 0 1 1 1 0 0 1 0 1 1 0 1 0 0 0 0 0 0 0 0 0 1 1 0 0\n",
      " 0 1 1 1 0 0 0 1 0 0 0 0 0 0 0 0 0 1 0 0 1 0 0 1 0 0 0 0 0 0 0 0 0 0 0 0 1\n",
      " 0 0 1 0 0 0 1 0 0 0 1]\n"
     ]
    }
   ],
   "source": [
    "# transform RNA data to binary \n",
    "\n",
    "RNA_bin = RNA_binary(RNA)\n",
    "print('RNA binary object:')\n",
    "print(RNA_bin[0])"
   ]
  },
  {
   "cell_type": "code",
   "execution_count": 17,
   "metadata": {
    "collapsed": true
   },
   "outputs": [],
   "source": [
    "# reshape to image format m x n (m rows with n-dimensional binary vectors)\n",
    "# 32 x 20 - works fine (weights saved)\n",
    "# 20 x 32 - tests\n",
    "\n",
    "m = 32\n",
    "n = 20"
   ]
  },
  {
   "cell_type": "code",
   "execution_count": 18,
   "metadata": {},
   "outputs": [
    {
     "name": "stdout",
     "output_type": "stream",
     "text": [
      "[[[0 0 0 0 0 0 0 0 0 0 0 1 1 1 0 1 1 1 1 1]\n",
      "  [0 0 0 0 0 0 0 0 0 1 0 0 0 0 1 0 0 1 1 0]\n",
      "  [0 0 0 0 0 0 0 0 0 0 0 1 0 1 1 1 0 0 0 1]\n",
      "  [0 0 0 0 0 0 0 1 0 0 0 0 0 1 1 1 1 0 0 1]\n",
      "  [0 0 0 0 0 0 0 0 0 0 1 0 1 0 1 1 0 0 0 1]\n",
      "  [0 0 0 0 0 0 0 0 0 0 1 1 1 1 0 0 0 0 1 1]\n",
      "  [0 0 0 0 0 0 0 0 0 0 1 0 0 1 0 1 0 0 1 1]\n",
      "  [0 0 0 0 0 0 0 0 0 1 0 0 0 1 1 1 1 0 0 0]\n",
      "  [0 0 0 0 0 0 0 0 0 0 1 0 0 1 0 0 1 1 0 1]\n",
      "  [0 0 0 0 0 0 0 0 0 1 1 0 0 1 1 0 0 1 1 1]\n",
      "  [0 0 0 0 0 0 0 0 0 1 0 1 0 1 0 0 0 0 1 1]\n",
      "  [0 0 0 0 0 0 0 0 0 0 0 1 0 1 1 0 0 1 0 1]\n",
      "  [0 0 0 0 0 0 0 0 0 1 1 0 0 0 0 0 0 1 0 0]\n",
      "  [0 0 0 0 0 0 0 0 0 1 0 0 1 0 0 0 1 1 1 1]\n",
      "  [0 0 0 0 0 0 0 1 0 1 1 0 0 0 1 0 1 0 1 0]\n",
      "  [0 0 0 0 0 0 0 0 1 1 0 1 1 0 1 1 1 0 0 1]\n",
      "  [0 0 0 0 0 0 0 1 0 1 1 1 1 0 0 1 1 0 1 0]\n",
      "  [0 0 0 0 0 0 0 1 0 0 0 1 0 1 1 0 0 0 0 1]\n",
      "  [0 0 0 0 0 0 0 0 1 1 1 0 0 1 0 1 0 0 1 1]\n",
      "  [0 0 0 0 0 0 1 0 0 1 0 0 0 0 0 1 0 1 0 0]\n",
      "  [0 0 0 0 0 0 0 1 0 1 0 0 1 0 0 0 1 1 1 0]\n",
      "  [0 0 0 0 0 0 0 1 1 1 0 0 0 1 0 0 0 0 1 1]\n",
      "  [0 0 0 0 0 0 0 0 1 1 0 0 1 0 0 1 0 1 0 0]\n",
      "  [0 0 0 0 0 0 0 0 0 1 0 0 1 0 0 0 1 1 1 0]\n",
      "  [0 0 0 0 0 0 0 0 1 0 0 0 0 1 1 1 1 1 1 1]\n",
      "  [0 0 0 0 0 0 0 0 1 0 0 0 1 1 1 1 0 1 1 1]\n",
      "  [0 0 0 0 0 0 0 0 1 1 0 0 0 0 1 1 1 0 1 0]\n",
      "  [0 0 0 0 0 0 0 0 0 0 1 1 0 0 0 1 0 0 1 1]\n",
      "  [0 0 0 0 0 0 0 0 1 1 1 0 0 1 0 1 1 0 1 0]\n",
      "  [0 0 0 0 0 0 0 0 1 1 0 0 0 1 1 1 0 0 0 1]\n",
      "  [0 0 0 0 0 0 0 0 0 1 0 0 1 0 0 1 0 0 0 0]\n",
      "  [0 0 0 0 0 0 0 0 1 0 0 1 0 0 0 1 0 0 0 1]]]\n"
     ]
    }
   ],
   "source": [
    "RNA_img = np.reshape(RNA_bin, (len(RNA_bin),1,m,n))\n",
    "print(RNA_img[0])"
   ]
  },
  {
   "cell_type": "code",
   "execution_count": 19,
   "metadata": {},
   "outputs": [
    {
     "name": "stdout",
     "output_type": "stream",
     "text": [
      "(None, 1, 32, 20)\n",
      "(None, 32, 16, 10)\n",
      "(None, 16, 8, 5)\n",
      "\n",
      "(None, 16, 16, 10)\n",
      "(None, 32, 32, 20)\n",
      "(None, 1, 32, 20)\n"
     ]
    }
   ],
   "source": [
    "# convolutional autoencoder\n",
    "# 2 Conv + MaxPooling layers, 2 Conv + UpSampling layers\n",
    "\n",
    "input_RNA = Input(shape=(1,m,n))\n",
    "print(B.int_shape(input_RNA))\n",
    "\n",
    "layer1 = Conv2D(32, (4, 4), activation='relu', padding='same', data_format=\"channels_first\")(input_RNA)\n",
    "layer1_pooling = MaxPooling2D((2, 2), padding='same', data_format=\"channels_first\")(layer1)\n",
    "print(B.int_shape(layer1_pooling))\n",
    "\n",
    "layer2 = Conv2D(16, (4, 4), activation='relu', padding='same', data_format=\"channels_first\")(layer1_pooling)\n",
    "encoded = MaxPooling2D((2, 2), padding='same', data_format=\"channels_first\")(layer2)\n",
    "print(B.int_shape(encoded))\n",
    "print()\n",
    "\n",
    "layer3 = Conv2D(16, (4, 4), activation='relu', padding='same', data_format=\"channels_first\")(encoded)\n",
    "layer3_sampling = UpSampling2D((2, 2), data_format=\"channels_first\")(layer3)\n",
    "print(B.int_shape(layer3_sampling))\n",
    "\n",
    "layer4 = Conv2D(32, (4, 4), activation='relu', padding='same', data_format=\"channels_first\")(layer3_sampling)\n",
    "layer4_sampling = UpSampling2D((2, 2),data_format=\"channels_first\")(layer4)\n",
    "print(B.int_shape(layer4_sampling))\n",
    "\n",
    "output_RNA = Conv2D(1, (4, 4), activation='sigmoid', padding='same', data_format=\"channels_first\")(layer4_sampling)\n",
    "print(B.int_shape(output_RNA))\n",
    "\n",
    "RNA_to_RNA = Model(input_RNA, output_RNA)\n",
    "\n",
    "RNA_to_RNA.compile(optimizer='adadelta',\n",
    "                   loss='binary_crossentropy',\n",
    "                   metrics=[R2_score]\n",
    "                   )"
   ]
  },
  {
   "cell_type": "code",
   "execution_count": 26,
   "metadata": {},
   "outputs": [
    {
     "name": "stdout",
     "output_type": "stream",
     "text": [
      "Train on 16026 samples, validate on 4007 samples\n",
      "Epoch 1/100\n",
      "226s - loss: 0.3067 - R2_score: 0.3239 - val_loss: 0.1840 - val_R2_score: 0.3998\n",
      "Epoch 2/100\n",
      "248s - loss: 0.2777 - R2_score: 0.3882 - val_loss: 0.1756 - val_R2_score: 0.4289\n",
      "Epoch 3/100\n",
      "262s - loss: 0.2687 - R2_score: 0.4105 - val_loss: 0.1723 - val_R2_score: 0.4398\n",
      "Epoch 4/100\n",
      "260s - loss: 0.2612 - R2_score: 0.4290 - val_loss: 0.1642 - val_R2_score: 0.4696\n",
      "Epoch 5/100\n",
      "200s - loss: 0.2556 - R2_score: 0.4427 - val_loss: 0.1613 - val_R2_score: 0.4795\n",
      "Epoch 6/100\n",
      "223s - loss: 0.2514 - R2_score: 0.4530 - val_loss: 0.1589 - val_R2_score: 0.4894\n",
      "Epoch 7/100\n",
      "209s - loss: 0.2476 - R2_score: 0.4623 - val_loss: 0.1551 - val_R2_score: 0.5016\n",
      "Epoch 8/100\n",
      "164s - loss: 0.2445 - R2_score: 0.4700 - val_loss: 0.1537 - val_R2_score: 0.5067\n",
      "Epoch 9/100\n",
      "188s - loss: 0.2413 - R2_score: 0.4778 - val_loss: 0.1526 - val_R2_score: 0.5113\n",
      "Epoch 10/100\n",
      "161s - loss: 0.2378 - R2_score: 0.4867 - val_loss: 0.1485 - val_R2_score: 0.5260\n",
      "Epoch 11/100\n",
      "160s - loss: 0.2343 - R2_score: 0.4955 - val_loss: 0.1466 - val_R2_score: 0.5333\n",
      "Epoch 12/100\n",
      "161s - loss: 0.2311 - R2_score: 0.5033 - val_loss: 0.1457 - val_R2_score: 0.5376\n",
      "Epoch 13/100\n",
      "161s - loss: 0.2282 - R2_score: 0.5108 - val_loss: 0.1424 - val_R2_score: 0.5484\n",
      "Epoch 14/100\n",
      "161s - loss: 0.2253 - R2_score: 0.5180 - val_loss: 0.1411 - val_R2_score: 0.5531\n",
      "Epoch 15/100\n",
      "162s - loss: 0.2227 - R2_score: 0.5244 - val_loss: 0.1382 - val_R2_score: 0.5637\n",
      "Epoch 16/100\n",
      "161s - loss: 0.2200 - R2_score: 0.5311 - val_loss: 0.1384 - val_R2_score: 0.5644\n",
      "Epoch 17/100\n",
      "160s - loss: 0.2175 - R2_score: 0.5374 - val_loss: 0.1363 - val_R2_score: 0.5718\n",
      "Epoch 18/100\n",
      "160s - loss: 0.2150 - R2_score: 0.5436 - val_loss: 0.1333 - val_R2_score: 0.5822\n",
      "Epoch 19/100\n",
      "160s - loss: 0.2129 - R2_score: 0.5490 - val_loss: 0.1328 - val_R2_score: 0.5852\n",
      "Epoch 20/100\n",
      "161s - loss: 0.2108 - R2_score: 0.5540 - val_loss: 0.1308 - val_R2_score: 0.5918\n",
      "Epoch 21/100\n",
      "160s - loss: 0.2088 - R2_score: 0.5591 - val_loss: 0.1286 - val_R2_score: 0.6003\n",
      "Epoch 22/100\n",
      "161s - loss: 0.2067 - R2_score: 0.5642 - val_loss: 0.1262 - val_R2_score: 0.6094\n",
      "Epoch 23/100\n",
      "160s - loss: 0.2045 - R2_score: 0.5696 - val_loss: 0.1251 - val_R2_score: 0.6133\n",
      "Epoch 24/100\n",
      "161s - loss: 0.2025 - R2_score: 0.5744 - val_loss: 0.1240 - val_R2_score: 0.6170\n",
      "Epoch 25/100\n",
      "161s - loss: 0.2005 - R2_score: 0.5793 - val_loss: 0.1226 - val_R2_score: 0.6224\n",
      "Epoch 26/100\n",
      "160s - loss: 0.1982 - R2_score: 0.5851 - val_loss: 0.1222 - val_R2_score: 0.6239\n",
      "Epoch 27/100\n",
      "160s - loss: 0.1957 - R2_score: 0.5911 - val_loss: 0.1199 - val_R2_score: 0.6322\n",
      "Epoch 28/100\n",
      "160s - loss: 0.1934 - R2_score: 0.5967 - val_loss: 0.1179 - val_R2_score: 0.6393\n",
      "Epoch 29/100\n",
      "161s - loss: 0.1910 - R2_score: 0.6024 - val_loss: 0.1181 - val_R2_score: 0.6396\n",
      "Epoch 30/100\n",
      "160s - loss: 0.1888 - R2_score: 0.6074 - val_loss: 0.1144 - val_R2_score: 0.6519\n",
      "Epoch 31/100\n",
      "161s - loss: 0.1870 - R2_score: 0.6119 - val_loss: 0.1134 - val_R2_score: 0.6552\n",
      "Epoch 32/100\n",
      "161s - loss: 0.1853 - R2_score: 0.6157 - val_loss: 0.1117 - val_R2_score: 0.6614\n",
      "Epoch 33/100\n",
      "162s - loss: 0.1836 - R2_score: 0.6196 - val_loss: 0.1109 - val_R2_score: 0.6641\n",
      "Epoch 34/100\n",
      "161s - loss: 0.1820 - R2_score: 0.6235 - val_loss: 0.1101 - val_R2_score: 0.6667\n",
      "Epoch 35/100\n",
      "160s - loss: 0.1804 - R2_score: 0.6272 - val_loss: 0.1094 - val_R2_score: 0.6695\n",
      "Epoch 36/100\n",
      "160s - loss: 0.1792 - R2_score: 0.6299 - val_loss: 0.1087 - val_R2_score: 0.6718\n",
      "Epoch 37/100\n",
      "161s - loss: 0.1777 - R2_score: 0.6335 - val_loss: 0.1076 - val_R2_score: 0.6754\n",
      "Epoch 38/100\n",
      "161s - loss: 0.1764 - R2_score: 0.6364 - val_loss: 0.1061 - val_R2_score: 0.6808\n",
      "Epoch 39/100\n",
      "161s - loss: 0.1754 - R2_score: 0.6388 - val_loss: 0.1075 - val_R2_score: 0.6755\n",
      "Epoch 40/100\n",
      "161s - loss: 0.1746 - R2_score: 0.6406 - val_loss: 0.1048 - val_R2_score: 0.6852\n",
      "Epoch 41/100\n",
      "160s - loss: 0.1734 - R2_score: 0.6433 - val_loss: 0.1060 - val_R2_score: 0.6813\n",
      "Epoch 42/100\n",
      "161s - loss: 0.1721 - R2_score: 0.6463 - val_loss: 0.1030 - val_R2_score: 0.6914\n",
      "Epoch 43/100\n",
      "161s - loss: 0.1712 - R2_score: 0.6482 - val_loss: 0.1021 - val_R2_score: 0.6942\n",
      "Epoch 44/100\n",
      "161s - loss: 0.1703 - R2_score: 0.6502 - val_loss: 0.1019 - val_R2_score: 0.6948\n",
      "Epoch 45/100\n",
      "160s - loss: 0.1696 - R2_score: 0.6520 - val_loss: 0.1029 - val_R2_score: 0.6916\n",
      "Epoch 46/100\n",
      "161s - loss: 0.1685 - R2_score: 0.6544 - val_loss: 0.1010 - val_R2_score: 0.6981\n",
      "Epoch 47/100\n",
      "160s - loss: 0.1676 - R2_score: 0.6562 - val_loss: 0.1016 - val_R2_score: 0.6956\n",
      "Epoch 48/100\n",
      "161s - loss: 0.1670 - R2_score: 0.6576 - val_loss: 0.0996 - val_R2_score: 0.7025\n",
      "Epoch 49/100\n",
      "161s - loss: 0.1664 - R2_score: 0.6591 - val_loss: 0.0990 - val_R2_score: 0.7044\n",
      "Epoch 50/100\n",
      "161s - loss: 0.1656 - R2_score: 0.6609 - val_loss: 0.0993 - val_R2_score: 0.7037\n",
      "Epoch 51/100\n",
      "160s - loss: 0.1647 - R2_score: 0.6629 - val_loss: 0.0997 - val_R2_score: 0.7020\n",
      "Epoch 52/100\n",
      "160s - loss: 0.1641 - R2_score: 0.6643 - val_loss: 0.1001 - val_R2_score: 0.7007\n",
      "Epoch 53/100\n",
      "160s - loss: 0.1634 - R2_score: 0.6658 - val_loss: 0.0973 - val_R2_score: 0.7101\n",
      "Epoch 54/100\n",
      "161s - loss: 0.1625 - R2_score: 0.6677 - val_loss: 0.0981 - val_R2_score: 0.7074\n",
      "Epoch 55/100\n",
      "161s - loss: 0.1619 - R2_score: 0.6691 - val_loss: 0.0974 - val_R2_score: 0.7100\n",
      "Epoch 56/100\n",
      "162s - loss: 0.1615 - R2_score: 0.6701 - val_loss: 0.0977 - val_R2_score: 0.7086\n",
      "Epoch 57/100\n",
      "161s - loss: 0.1610 - R2_score: 0.6712 - val_loss: 0.0959 - val_R2_score: 0.7151\n",
      "Epoch 58/100\n",
      "160s - loss: 0.1604 - R2_score: 0.6726 - val_loss: 0.0950 - val_R2_score: 0.7184\n",
      "Epoch 59/100\n",
      "162s - loss: 0.1596 - R2_score: 0.6744 - val_loss: 0.0973 - val_R2_score: 0.7103\n",
      "Epoch 60/100\n",
      "160s - loss: 0.1592 - R2_score: 0.6752 - val_loss: 0.0946 - val_R2_score: 0.7194\n",
      "Epoch 61/100\n",
      "161s - loss: 0.1587 - R2_score: 0.6764 - val_loss: 0.0944 - val_R2_score: 0.7196\n",
      "Epoch 62/100\n",
      "160s - loss: 0.1580 - R2_score: 0.6779 - val_loss: 0.0939 - val_R2_score: 0.7214\n",
      "Epoch 63/100\n",
      "161s - loss: 0.1573 - R2_score: 0.6793 - val_loss: 0.0949 - val_R2_score: 0.7182\n",
      "Epoch 64/100\n",
      "162s - loss: 0.1568 - R2_score: 0.6807 - val_loss: 0.0942 - val_R2_score: 0.7207\n",
      "Epoch 65/100\n",
      "161s - loss: 0.1564 - R2_score: 0.6814 - val_loss: 0.0934 - val_R2_score: 0.7234\n",
      "Epoch 66/100\n",
      "161s - loss: 0.1559 - R2_score: 0.6825 - val_loss: 0.0950 - val_R2_score: 0.7178\n",
      "Epoch 67/100\n",
      "161s - loss: 0.1555 - R2_score: 0.6834 - val_loss: 0.0926 - val_R2_score: 0.7257\n",
      "Epoch 68/100\n",
      "161s - loss: 0.1548 - R2_score: 0.6851 - val_loss: 0.0925 - val_R2_score: 0.7260\n",
      "Epoch 69/100\n",
      "161s - loss: 0.1544 - R2_score: 0.6858 - val_loss: 0.0926 - val_R2_score: 0.7255\n",
      "Epoch 70/100\n",
      "161s - loss: 0.1540 - R2_score: 0.6868 - val_loss: 0.0931 - val_R2_score: 0.7243\n",
      "Epoch 71/100\n",
      "160s - loss: 0.1537 - R2_score: 0.6874 - val_loss: 0.0939 - val_R2_score: 0.7215\n",
      "Epoch 72/100\n",
      "162s - loss: 0.1532 - R2_score: 0.6887 - val_loss: 0.0926 - val_R2_score: 0.7255\n",
      "Epoch 73/100\n",
      "161s - loss: 0.1526 - R2_score: 0.6900 - val_loss: 0.0910 - val_R2_score: 0.7312\n",
      "Epoch 74/100\n",
      "160s - loss: 0.1523 - R2_score: 0.6907 - val_loss: 0.0900 - val_R2_score: 0.7344\n",
      "Epoch 75/100\n",
      "161s - loss: 0.1520 - R2_score: 0.6912 - val_loss: 0.0918 - val_R2_score: 0.7283\n",
      "Epoch 76/100\n",
      "161s - loss: 0.1516 - R2_score: 0.6921 - val_loss: 0.0898 - val_R2_score: 0.7352\n",
      "Epoch 77/100\n",
      "162s - loss: 0.1513 - R2_score: 0.6928 - val_loss: 0.0918 - val_R2_score: 0.7285\n",
      "Epoch 78/100\n",
      "161s - loss: 0.1510 - R2_score: 0.6935 - val_loss: 0.0897 - val_R2_score: 0.7353\n",
      "Epoch 79/100\n",
      "162s - loss: 0.1505 - R2_score: 0.6945 - val_loss: 0.0896 - val_R2_score: 0.7356\n",
      "Epoch 80/100\n",
      "161s - loss: 0.1503 - R2_score: 0.6951 - val_loss: 0.0889 - val_R2_score: 0.7381\n",
      "Epoch 81/100\n",
      "161s - loss: 0.1496 - R2_score: 0.6967 - val_loss: 0.0889 - val_R2_score: 0.7378\n",
      "Epoch 82/100\n",
      "161s - loss: 0.1491 - R2_score: 0.6977 - val_loss: 0.0885 - val_R2_score: 0.7391\n",
      "Epoch 83/100\n",
      "160s - loss: 0.1488 - R2_score: 0.6985 - val_loss: 0.0924 - val_R2_score: 0.7268\n",
      "Epoch 84/100\n",
      "161s - loss: 0.1483 - R2_score: 0.6995 - val_loss: 0.0885 - val_R2_score: 0.7391\n",
      "Epoch 85/100\n",
      "161s - loss: 0.1481 - R2_score: 0.6999 - val_loss: 0.0922 - val_R2_score: 0.7267\n",
      "Epoch 86/100\n",
      "160s - loss: 0.1476 - R2_score: 0.7011 - val_loss: 0.0888 - val_R2_score: 0.7380\n",
      "Epoch 87/100\n",
      "161s - loss: 0.1474 - R2_score: 0.7017 - val_loss: 0.0873 - val_R2_score: 0.7432\n",
      "Epoch 88/100\n"
     ]
    },
    {
     "name": "stdout",
     "output_type": "stream",
     "text": [
      "162s - loss: 0.1472 - R2_score: 0.7021 - val_loss: 0.0888 - val_R2_score: 0.7382\n",
      "Epoch 89/100\n",
      "161s - loss: 0.1467 - R2_score: 0.7031 - val_loss: 0.0869 - val_R2_score: 0.7445\n",
      "Epoch 90/100\n",
      "161s - loss: 0.1464 - R2_score: 0.7039 - val_loss: 0.0888 - val_R2_score: 0.7387\n",
      "Epoch 91/100\n",
      "160s - loss: 0.1462 - R2_score: 0.7043 - val_loss: 0.0886 - val_R2_score: 0.7391\n",
      "Epoch 92/100\n",
      "160s - loss: 0.1458 - R2_score: 0.7051 - val_loss: 0.0861 - val_R2_score: 0.7469\n",
      "Epoch 93/100\n",
      "162s - loss: 0.1454 - R2_score: 0.7061 - val_loss: 0.0882 - val_R2_score: 0.7403\n",
      "Epoch 94/100\n",
      "161s - loss: 0.1450 - R2_score: 0.7071 - val_loss: 0.0868 - val_R2_score: 0.7447\n",
      "Epoch 95/100\n",
      "161s - loss: 0.1448 - R2_score: 0.7075 - val_loss: 0.0860 - val_R2_score: 0.7477\n",
      "Epoch 96/100\n",
      "161s - loss: 0.1445 - R2_score: 0.7082 - val_loss: 0.0853 - val_R2_score: 0.7497\n",
      "Epoch 97/100\n",
      "160s - loss: 0.1440 - R2_score: 0.7092 - val_loss: 0.0875 - val_R2_score: 0.7425\n",
      "Epoch 98/100\n",
      "161s - loss: 0.1435 - R2_score: 0.7105 - val_loss: 0.0848 - val_R2_score: 0.7514\n",
      "Epoch 99/100\n",
      "161s - loss: 0.1434 - R2_score: 0.7107 - val_loss: 0.0858 - val_R2_score: 0.7481\n",
      "Epoch 100/100\n",
      "161s - loss: 0.1431 - R2_score: 0.7111 - val_loss: 0.0842 - val_R2_score: 0.7533\n"
     ]
    }
   ],
   "source": [
    "# model training\n",
    "\n",
    "training_history = RNA_to_RNA.fit(RNA_img, RNA_img,\n",
    "                                  epochs=100,\n",
    "                                  validation_split=0.2,\n",
    "                                  verbose=2\n",
    "                                 )"
   ]
  },
  {
   "cell_type": "code",
   "execution_count": 27,
   "metadata": {
    "scrolled": true
   },
   "outputs": [
    {
     "name": "stdout",
     "output_type": "stream",
     "text": [
      "Train on 16026 samples, validate on 4007 samples\n",
      "Epoch 1/50\n",
      "165s - loss: 0.1429 - R2_score: 0.7118 - val_loss: 0.0851 - val_R2_score: 0.7506\n",
      "Epoch 2/50\n",
      "168s - loss: 0.1423 - R2_score: 0.7130 - val_loss: 0.0848 - val_R2_score: 0.7516\n",
      "Epoch 3/50\n",
      "165s - loss: 0.1421 - R2_score: 0.7133 - val_loss: 0.0839 - val_R2_score: 0.7544\n",
      "Epoch 4/50\n",
      "165s - loss: 0.1418 - R2_score: 0.7142 - val_loss: 0.0852 - val_R2_score: 0.7505\n",
      "Epoch 5/50\n",
      "164s - loss: 0.1416 - R2_score: 0.7146 - val_loss: 0.0840 - val_R2_score: 0.7541\n",
      "Epoch 6/50\n",
      "167s - loss: 0.1412 - R2_score: 0.7155 - val_loss: 0.0828 - val_R2_score: 0.7582\n",
      "Epoch 7/50\n",
      "165s - loss: 0.1410 - R2_score: 0.7160 - val_loss: 0.0840 - val_R2_score: 0.7542\n",
      "Epoch 8/50\n",
      "161s - loss: 0.1408 - R2_score: 0.7166 - val_loss: 0.0828 - val_R2_score: 0.7582\n",
      "Epoch 9/50\n",
      "161s - loss: 0.1404 - R2_score: 0.7172 - val_loss: 0.0859 - val_R2_score: 0.7484\n",
      "Epoch 10/50\n",
      "161s - loss: 0.1400 - R2_score: 0.7181 - val_loss: 0.0853 - val_R2_score: 0.7502\n",
      "Epoch 11/50\n",
      "161s - loss: 0.1399 - R2_score: 0.7186 - val_loss: 0.0825 - val_R2_score: 0.7595\n",
      "Epoch 12/50\n",
      "160s - loss: 0.1396 - R2_score: 0.7191 - val_loss: 0.0840 - val_R2_score: 0.7539\n",
      "Epoch 13/50\n",
      "161s - loss: 0.1391 - R2_score: 0.7203 - val_loss: 0.0825 - val_R2_score: 0.7593\n",
      "Epoch 14/50\n",
      "161s - loss: 0.1391 - R2_score: 0.7203 - val_loss: 0.0828 - val_R2_score: 0.7585\n",
      "Epoch 15/50\n",
      "162s - loss: 0.1386 - R2_score: 0.7214 - val_loss: 0.0818 - val_R2_score: 0.7617\n",
      "Epoch 16/50\n",
      "160s - loss: 0.1383 - R2_score: 0.7220 - val_loss: 0.0809 - val_R2_score: 0.7645\n",
      "Epoch 17/50\n",
      "161s - loss: 0.1380 - R2_score: 0.7227 - val_loss: 0.0853 - val_R2_score: 0.7506\n",
      "Epoch 18/50\n",
      "161s - loss: 0.1377 - R2_score: 0.7235 - val_loss: 0.0829 - val_R2_score: 0.7582\n",
      "Epoch 19/50\n",
      "160s - loss: 0.1375 - R2_score: 0.7238 - val_loss: 0.0813 - val_R2_score: 0.7632\n",
      "Epoch 20/50\n",
      "188s - loss: 0.1373 - R2_score: 0.7243 - val_loss: 0.0811 - val_R2_score: 0.7642\n",
      "Epoch 21/50\n",
      "161s - loss: 0.1370 - R2_score: 0.7249 - val_loss: 0.0809 - val_R2_score: 0.7645\n",
      "Epoch 22/50\n",
      "176s - loss: 0.1368 - R2_score: 0.7254 - val_loss: 0.0811 - val_R2_score: 0.7639\n",
      "Epoch 23/50\n",
      "175s - loss: 0.1364 - R2_score: 0.7263 - val_loss: 0.0809 - val_R2_score: 0.7646\n",
      "Epoch 24/50\n",
      "189s - loss: 0.1361 - R2_score: 0.7270 - val_loss: 0.0805 - val_R2_score: 0.7660\n",
      "Epoch 25/50\n",
      "185s - loss: 0.1359 - R2_score: 0.7275 - val_loss: 0.0814 - val_R2_score: 0.7628\n",
      "Epoch 26/50\n",
      "176s - loss: 0.1356 - R2_score: 0.7281 - val_loss: 0.0803 - val_R2_score: 0.7664\n",
      "Epoch 27/50\n",
      "163s - loss: 0.1353 - R2_score: 0.7288 - val_loss: 0.0840 - val_R2_score: 0.7547\n",
      "Epoch 28/50\n",
      "163s - loss: 0.1349 - R2_score: 0.7296 - val_loss: 0.0796 - val_R2_score: 0.7689\n",
      "Epoch 29/50\n",
      "196s - loss: 0.1349 - R2_score: 0.7297 - val_loss: 0.0796 - val_R2_score: 0.7686\n",
      "Epoch 30/50\n",
      "168s - loss: 0.1346 - R2_score: 0.7304 - val_loss: 0.0791 - val_R2_score: 0.7706\n",
      "Epoch 31/50\n",
      "192s - loss: 0.1342 - R2_score: 0.7312 - val_loss: 0.0786 - val_R2_score: 0.7722\n",
      "Epoch 32/50\n",
      "175s - loss: 0.1341 - R2_score: 0.7316 - val_loss: 0.0794 - val_R2_score: 0.7696\n",
      "Epoch 33/50\n",
      "177s - loss: 0.1335 - R2_score: 0.7330 - val_loss: 0.0791 - val_R2_score: 0.7704\n",
      "Epoch 34/50\n",
      "165s - loss: 0.1335 - R2_score: 0.7330 - val_loss: 0.0824 - val_R2_score: 0.7593\n",
      "Epoch 35/50\n",
      "184s - loss: 0.1333 - R2_score: 0.7334 - val_loss: 0.0799 - val_R2_score: 0.7680\n",
      "Epoch 36/50\n",
      "199s - loss: 0.1331 - R2_score: 0.7337 - val_loss: 0.0782 - val_R2_score: 0.7735\n",
      "Epoch 37/50\n",
      "175s - loss: 0.1326 - R2_score: 0.7349 - val_loss: 0.0780 - val_R2_score: 0.7742\n",
      "Epoch 38/50\n",
      "212s - loss: 0.1324 - R2_score: 0.7352 - val_loss: 0.0777 - val_R2_score: 0.7750\n",
      "Epoch 39/50\n",
      "206s - loss: 0.1322 - R2_score: 0.7356 - val_loss: 0.0786 - val_R2_score: 0.7721\n",
      "Epoch 40/50\n",
      "183s - loss: 0.1321 - R2_score: 0.7360 - val_loss: 0.0796 - val_R2_score: 0.7689\n",
      "Epoch 41/50\n",
      "202s - loss: 0.1317 - R2_score: 0.7368 - val_loss: 0.0779 - val_R2_score: 0.7744\n",
      "Epoch 42/50\n",
      "211s - loss: 0.1314 - R2_score: 0.7375 - val_loss: 0.0776 - val_R2_score: 0.7755\n",
      "Epoch 43/50\n",
      "252s - loss: 0.1311 - R2_score: 0.7381 - val_loss: 0.0765 - val_R2_score: 0.7789\n",
      "Epoch 44/50\n",
      "195s - loss: 0.1310 - R2_score: 0.7384 - val_loss: 0.0769 - val_R2_score: 0.7779\n",
      "Epoch 45/50\n",
      "246s - loss: 0.1310 - R2_score: 0.7383 - val_loss: 0.0776 - val_R2_score: 0.7755\n",
      "Epoch 46/50\n",
      "203s - loss: 0.1306 - R2_score: 0.7394 - val_loss: 0.0776 - val_R2_score: 0.7752\n",
      "Epoch 47/50\n",
      "228s - loss: 0.1307 - R2_score: 0.7392 - val_loss: 0.0763 - val_R2_score: 0.7799\n",
      "Epoch 48/50\n",
      "194s - loss: 0.1303 - R2_score: 0.7400 - val_loss: 0.0761 - val_R2_score: 0.7801\n",
      "Epoch 49/50\n",
      "229s - loss: 0.1301 - R2_score: 0.7404 - val_loss: 0.0788 - val_R2_score: 0.7716\n",
      "Epoch 50/50\n",
      "184s - loss: 0.1297 - R2_score: 0.7412 - val_loss: 0.0776 - val_R2_score: 0.7748\n"
     ]
    }
   ],
   "source": [
    "# model training (50 more epochs) \n",
    "\n",
    "training_history2 = RNA_to_RNA.fit(RNA_img, RNA_img,\n",
    "                                  epochs=50,\n",
    "                                  validation_split=0.2,\n",
    "                                  verbose=2\n",
    "                                  )"
   ]
  },
  {
   "cell_type": "code",
   "execution_count": 28,
   "metadata": {},
   "outputs": [
    {
     "name": "stdout",
     "output_type": "stream",
     "text": [
      "Train on 16026 samples, validate on 4007 samples\n",
      "Epoch 1/100\n",
      "170s - loss: 0.1297 - R2_score: 0.7413 - val_loss: 0.0765 - val_R2_score: 0.7787\n",
      "Epoch 2/100\n",
      "164s - loss: 0.1296 - R2_score: 0.7416 - val_loss: 0.0756 - val_R2_score: 0.7818\n",
      "Epoch 3/100\n",
      "195s - loss: 0.1292 - R2_score: 0.7424 - val_loss: 0.0757 - val_R2_score: 0.7816\n",
      "Epoch 4/100\n",
      "180s - loss: 0.1292 - R2_score: 0.7424 - val_loss: 0.0764 - val_R2_score: 0.7792\n",
      "Epoch 5/100\n",
      "185s - loss: 0.1290 - R2_score: 0.7428 - val_loss: 0.0757 - val_R2_score: 0.7815\n",
      "Epoch 6/100\n",
      "174s - loss: 0.1288 - R2_score: 0.7432 - val_loss: 0.0778 - val_R2_score: 0.7746\n",
      "Epoch 7/100\n",
      "175s - loss: 0.1285 - R2_score: 0.7441 - val_loss: 0.0752 - val_R2_score: 0.7832\n",
      "Epoch 8/100\n",
      "176s - loss: 0.1284 - R2_score: 0.7440 - val_loss: 0.0771 - val_R2_score: 0.7769\n",
      "Epoch 9/100\n",
      "176s - loss: 0.1280 - R2_score: 0.7449 - val_loss: 0.0760 - val_R2_score: 0.7810\n",
      "Epoch 10/100\n",
      "171s - loss: 0.1281 - R2_score: 0.7448 - val_loss: 0.0742 - val_R2_score: 0.7864\n",
      "Epoch 11/100\n",
      "167s - loss: 0.1279 - R2_score: 0.7452 - val_loss: 0.0745 - val_R2_score: 0.7855\n",
      "Epoch 12/100\n",
      "165s - loss: 0.1280 - R2_score: 0.7450 - val_loss: 0.0758 - val_R2_score: 0.7811\n",
      "Epoch 13/100\n",
      "163s - loss: 0.1277 - R2_score: 0.7458 - val_loss: 0.0794 - val_R2_score: 0.7693\n",
      "Epoch 14/100\n",
      "164s - loss: 0.1274 - R2_score: 0.7463 - val_loss: 0.0758 - val_R2_score: 0.7812\n",
      "Epoch 15/100\n",
      "164s - loss: 0.1275 - R2_score: 0.7461 - val_loss: 0.0751 - val_R2_score: 0.7834\n",
      "Epoch 16/100\n",
      "166s - loss: 0.1271 - R2_score: 0.7471 - val_loss: 0.0747 - val_R2_score: 0.7847\n",
      "Epoch 17/100\n",
      "164s - loss: 0.1273 - R2_score: 0.7465 - val_loss: 0.0751 - val_R2_score: 0.7836\n",
      "Epoch 18/100\n",
      "163s - loss: 0.1270 - R2_score: 0.7472 - val_loss: 0.0765 - val_R2_score: 0.7790\n",
      "Epoch 19/100\n",
      "165s - loss: 0.1267 - R2_score: 0.7478 - val_loss: 0.0746 - val_R2_score: 0.7850\n",
      "Epoch 20/100\n",
      "167s - loss: 0.1265 - R2_score: 0.7482 - val_loss: 0.0736 - val_R2_score: 0.7885\n",
      "Epoch 21/100\n",
      "165s - loss: 0.1264 - R2_score: 0.7485 - val_loss: 0.0741 - val_R2_score: 0.7868\n",
      "Epoch 22/100\n",
      "163s - loss: 0.1261 - R2_score: 0.7490 - val_loss: 0.0746 - val_R2_score: 0.7851\n",
      "Epoch 23/100\n",
      "166s - loss: 0.1262 - R2_score: 0.7490 - val_loss: 0.0734 - val_R2_score: 0.7888\n",
      "Epoch 24/100\n",
      "165s - loss: 0.1259 - R2_score: 0.7496 - val_loss: 0.0741 - val_R2_score: 0.7867\n",
      "Epoch 25/100\n",
      "168s - loss: 0.1259 - R2_score: 0.7496 - val_loss: 0.0739 - val_R2_score: 0.7871\n",
      "Epoch 26/100\n",
      "168s - loss: 0.1258 - R2_score: 0.7498 - val_loss: 0.0762 - val_R2_score: 0.7799\n",
      "Epoch 27/100\n",
      "163s - loss: 0.1255 - R2_score: 0.7504 - val_loss: 0.0730 - val_R2_score: 0.7902\n",
      "Epoch 28/100\n",
      "165s - loss: 0.1253 - R2_score: 0.7507 - val_loss: 0.0734 - val_R2_score: 0.7889\n",
      "Epoch 29/100\n",
      "167s - loss: 0.1253 - R2_score: 0.7509 - val_loss: 0.0761 - val_R2_score: 0.7801\n",
      "Epoch 30/100\n",
      "166s - loss: 0.1254 - R2_score: 0.7507 - val_loss: 0.0776 - val_R2_score: 0.7758\n",
      "Epoch 31/100\n",
      "166s - loss: 0.1252 - R2_score: 0.7511 - val_loss: 0.0739 - val_R2_score: 0.7872\n",
      "Epoch 32/100\n",
      "169s - loss: 0.1249 - R2_score: 0.7516 - val_loss: 0.0727 - val_R2_score: 0.7909\n",
      "Epoch 33/100\n",
      "167s - loss: 0.1247 - R2_score: 0.7521 - val_loss: 0.0744 - val_R2_score: 0.7857\n",
      "Epoch 34/100\n",
      "169s - loss: 0.1248 - R2_score: 0.7519 - val_loss: 0.0751 - val_R2_score: 0.7841\n",
      "Epoch 35/100\n",
      "166s - loss: 0.1247 - R2_score: 0.7520 - val_loss: 0.0728 - val_R2_score: 0.7906\n",
      "Epoch 36/100\n",
      "167s - loss: 0.1246 - R2_score: 0.7524 - val_loss: 0.0756 - val_R2_score: 0.7819\n",
      "Epoch 37/100\n",
      "166s - loss: 0.1246 - R2_score: 0.7524 - val_loss: 0.0722 - val_R2_score: 0.7925\n",
      "Epoch 38/100\n",
      "169s - loss: 0.1241 - R2_score: 0.7534 - val_loss: 0.0727 - val_R2_score: 0.7910\n",
      "Epoch 39/100\n",
      "166s - loss: 0.1241 - R2_score: 0.7533 - val_loss: 0.0734 - val_R2_score: 0.7890\n",
      "Epoch 40/100\n",
      "168s - loss: 0.1241 - R2_score: 0.7534 - val_loss: 0.0764 - val_R2_score: 0.7794\n",
      "Epoch 41/100\n",
      "166s - loss: 0.1240 - R2_score: 0.7536 - val_loss: 0.0746 - val_R2_score: 0.7851\n",
      "Epoch 42/100\n",
      "167s - loss: 0.1241 - R2_score: 0.7535 - val_loss: 0.0749 - val_R2_score: 0.7839\n",
      "Epoch 43/100\n",
      "166s - loss: 0.1236 - R2_score: 0.7545 - val_loss: 0.0727 - val_R2_score: 0.7909\n",
      "Epoch 44/100\n",
      "167s - loss: 0.1233 - R2_score: 0.7551 - val_loss: 0.0725 - val_R2_score: 0.7917\n",
      "Epoch 45/100\n",
      "163s - loss: 0.1237 - R2_score: 0.7544 - val_loss: 0.0731 - val_R2_score: 0.7899\n",
      "Epoch 46/100\n",
      "166s - loss: 0.1233 - R2_score: 0.7551 - val_loss: 0.0752 - val_R2_score: 0.7831\n",
      "Epoch 47/100\n",
      "167s - loss: 0.1232 - R2_score: 0.7553 - val_loss: 0.0724 - val_R2_score: 0.7920\n",
      "Epoch 48/100\n",
      "169s - loss: 0.1232 - R2_score: 0.7554 - val_loss: 0.0744 - val_R2_score: 0.7859\n",
      "Epoch 49/100\n",
      "169s - loss: 0.1232 - R2_score: 0.7552 - val_loss: 0.0752 - val_R2_score: 0.7826\n",
      "Epoch 50/100\n",
      "166s - loss: 0.1230 - R2_score: 0.7557 - val_loss: 0.0731 - val_R2_score: 0.7896\n",
      "Epoch 51/100\n",
      "168s - loss: 0.1228 - R2_score: 0.7562 - val_loss: 0.0728 - val_R2_score: 0.7906\n",
      "Epoch 52/100\n",
      "168s - loss: 0.1227 - R2_score: 0.7563 - val_loss: 0.0730 - val_R2_score: 0.7903\n",
      "Epoch 53/100\n",
      "168s - loss: 0.1224 - R2_score: 0.7572 - val_loss: 0.0725 - val_R2_score: 0.7917\n",
      "Epoch 54/100\n",
      "169s - loss: 0.1223 - R2_score: 0.7574 - val_loss: 0.0740 - val_R2_score: 0.7873\n",
      "Epoch 55/100\n",
      "169s - loss: 0.1223 - R2_score: 0.7574 - val_loss: 0.0740 - val_R2_score: 0.7871\n",
      "Epoch 56/100\n",
      "168s - loss: 0.1220 - R2_score: 0.7580 - val_loss: 0.0717 - val_R2_score: 0.7940\n",
      "Epoch 57/100\n",
      "168s - loss: 0.1221 - R2_score: 0.7578 - val_loss: 0.0742 - val_R2_score: 0.7860\n",
      "Epoch 58/100\n",
      "169s - loss: 0.1218 - R2_score: 0.7585 - val_loss: 0.0720 - val_R2_score: 0.7932\n",
      "Epoch 59/100\n",
      "168s - loss: 0.1220 - R2_score: 0.7581 - val_loss: 0.0724 - val_R2_score: 0.7916\n",
      "Epoch 60/100\n",
      "167s - loss: 0.1219 - R2_score: 0.7583 - val_loss: 0.0778 - val_R2_score: 0.7752\n",
      "Epoch 61/100\n",
      "170s - loss: 0.1215 - R2_score: 0.7591 - val_loss: 0.0717 - val_R2_score: 0.7943\n",
      "Epoch 62/100\n",
      "170s - loss: 0.1214 - R2_score: 0.7593 - val_loss: 0.0718 - val_R2_score: 0.7942\n",
      "Epoch 63/100\n",
      "168s - loss: 0.1215 - R2_score: 0.7591 - val_loss: 0.0729 - val_R2_score: 0.7909\n",
      "Epoch 64/100\n",
      "169s - loss: 0.1213 - R2_score: 0.7593 - val_loss: 0.0708 - val_R2_score: 0.7972\n",
      "Epoch 65/100\n",
      "168s - loss: 0.1212 - R2_score: 0.7596 - val_loss: 0.0705 - val_R2_score: 0.7979\n",
      "Epoch 66/100\n",
      "166s - loss: 0.1212 - R2_score: 0.7598 - val_loss: 0.0740 - val_R2_score: 0.7870\n",
      "Epoch 67/100\n",
      "168s - loss: 0.1208 - R2_score: 0.7605 - val_loss: 0.0699 - val_R2_score: 0.7998\n",
      "Epoch 68/100\n",
      "169s - loss: 0.1208 - R2_score: 0.7607 - val_loss: 0.0737 - val_R2_score: 0.7880\n",
      "Epoch 69/100\n",
      "167s - loss: 0.1209 - R2_score: 0.7603 - val_loss: 0.0699 - val_R2_score: 0.7997\n",
      "Epoch 70/100\n",
      "172s - loss: 0.1208 - R2_score: 0.7605 - val_loss: 0.0726 - val_R2_score: 0.7914\n",
      "Epoch 71/100\n",
      "181s - loss: 0.1207 - R2_score: 0.7609 - val_loss: 0.0701 - val_R2_score: 0.7992\n",
      "Epoch 72/100\n",
      "171s - loss: 0.1207 - R2_score: 0.7607 - val_loss: 0.0740 - val_R2_score: 0.7869\n",
      "Epoch 73/100\n",
      "174s - loss: 0.1205 - R2_score: 0.7611 - val_loss: 0.0700 - val_R2_score: 0.7996\n",
      "Epoch 74/100\n",
      "170s - loss: 0.1203 - R2_score: 0.7615 - val_loss: 0.0713 - val_R2_score: 0.7952\n",
      "Epoch 75/100\n",
      "170s - loss: 0.1204 - R2_score: 0.7613 - val_loss: 0.0752 - val_R2_score: 0.7828\n",
      "Epoch 76/100\n",
      "172s - loss: 0.1201 - R2_score: 0.7621 - val_loss: 0.0698 - val_R2_score: 0.8003\n",
      "Epoch 77/100\n",
      "172s - loss: 0.1200 - R2_score: 0.7623 - val_loss: 0.0719 - val_R2_score: 0.7936\n",
      "Epoch 78/100\n",
      "169s - loss: 0.1201 - R2_score: 0.7621 - val_loss: 0.0695 - val_R2_score: 0.8012\n",
      "Epoch 79/100\n",
      "170s - loss: 0.1199 - R2_score: 0.7625 - val_loss: 0.0731 - val_R2_score: 0.7896\n",
      "Epoch 80/100\n",
      "168s - loss: 0.1197 - R2_score: 0.7628 - val_loss: 0.0708 - val_R2_score: 0.7970\n",
      "Epoch 81/100\n",
      "167s - loss: 0.1198 - R2_score: 0.7626 - val_loss: 0.0759 - val_R2_score: 0.7815\n",
      "Epoch 82/100\n",
      "169s - loss: 0.1198 - R2_score: 0.7627 - val_loss: 0.0698 - val_R2_score: 0.8002\n",
      "Epoch 83/100\n",
      "169s - loss: 0.1196 - R2_score: 0.7632 - val_loss: 0.0706 - val_R2_score: 0.7975\n",
      "Epoch 84/100\n",
      "167s - loss: 0.1193 - R2_score: 0.7638 - val_loss: 0.0695 - val_R2_score: 0.8009\n",
      "Epoch 85/100\n",
      "170s - loss: 0.1192 - R2_score: 0.7639 - val_loss: 0.0707 - val_R2_score: 0.7973\n",
      "Epoch 86/100\n",
      "166s - loss: 0.1193 - R2_score: 0.7638 - val_loss: 0.0692 - val_R2_score: 0.8019\n",
      "Epoch 87/100\n",
      "168s - loss: 0.1193 - R2_score: 0.7637 - val_loss: 0.0713 - val_R2_score: 0.7955\n",
      "Epoch 88/100\n"
     ]
    },
    {
     "name": "stdout",
     "output_type": "stream",
     "text": [
      "168s - loss: 0.1191 - R2_score: 0.7643 - val_loss: 0.0696 - val_R2_score: 0.8008\n",
      "Epoch 89/100\n",
      "167s - loss: 0.1189 - R2_score: 0.7646 - val_loss: 0.0756 - val_R2_score: 0.7822\n",
      "Epoch 90/100\n",
      "169s - loss: 0.1188 - R2_score: 0.7650 - val_loss: 0.0693 - val_R2_score: 0.8016\n",
      "Epoch 91/100\n",
      "167s - loss: 0.1188 - R2_score: 0.7649 - val_loss: 0.0695 - val_R2_score: 0.8010\n",
      "Epoch 92/100\n",
      "169s - loss: 0.1188 - R2_score: 0.7649 - val_loss: 0.0704 - val_R2_score: 0.7981\n",
      "Epoch 93/100\n",
      "166s - loss: 0.1186 - R2_score: 0.7652 - val_loss: 0.0685 - val_R2_score: 0.8045\n",
      "Epoch 94/100\n",
      "166s - loss: 0.1186 - R2_score: 0.7653 - val_loss: 0.0732 - val_R2_score: 0.7896\n",
      "Epoch 95/100\n",
      "170s - loss: 0.1185 - R2_score: 0.7654 - val_loss: 0.0697 - val_R2_score: 0.8004\n",
      "Epoch 96/100\n",
      "166s - loss: 0.1185 - R2_score: 0.7655 - val_loss: 0.0684 - val_R2_score: 0.8047\n",
      "Epoch 97/100\n",
      "165s - loss: 0.1182 - R2_score: 0.7661 - val_loss: 0.0717 - val_R2_score: 0.7939\n",
      "Epoch 98/100\n",
      "169s - loss: 0.1185 - R2_score: 0.7654 - val_loss: 0.0709 - val_R2_score: 0.7965\n",
      "Epoch 99/100\n",
      "169s - loss: 0.1180 - R2_score: 0.7664 - val_loss: 0.0690 - val_R2_score: 0.8026\n",
      "Epoch 100/100\n",
      "170s - loss: 0.1179 - R2_score: 0.7668 - val_loss: 0.0699 - val_R2_score: 0.7999\n"
     ]
    }
   ],
   "source": [
    "# model training (100 more epochs) (takes REALLY long time)\n",
    "\n",
    "training_history3 = RNA_to_RNA.fit(RNA_img, RNA_img,\n",
    "                                  epochs=100,\n",
    "                                  validation_split=0.2,\n",
    "                                  verbose=2\n",
    "                                  )"
   ]
  },
  {
   "cell_type": "code",
   "execution_count": 30,
   "metadata": {
    "scrolled": true
   },
   "outputs": [
    {
     "name": "stdout",
     "output_type": "stream",
     "text": [
      "Train on 16026 samples, validate on 4007 samples\n",
      "Epoch 1/100\n",
      "161s - loss: 0.1128 - R2_score: 0.7776 - val_loss: 0.0655 - val_R2_score: 0.8138\n",
      "Epoch 2/100\n",
      "162s - loss: 0.1128 - R2_score: 0.7778 - val_loss: 0.0649 - val_R2_score: 0.8155\n",
      "Epoch 3/100\n",
      "161s - loss: 0.1126 - R2_score: 0.7781 - val_loss: 0.0668 - val_R2_score: 0.8099\n",
      "Epoch 4/100\n",
      "192s - loss: 0.1125 - R2_score: 0.7784 - val_loss: 0.0660 - val_R2_score: 0.8122\n",
      "Epoch 5/100\n",
      "162s - loss: 0.1126 - R2_score: 0.7782 - val_loss: 0.0649 - val_R2_score: 0.8158\n",
      "Epoch 6/100\n",
      "214s - loss: 0.1126 - R2_score: 0.7780 - val_loss: 0.0681 - val_R2_score: 0.8057\n",
      "Epoch 7/100\n",
      "292s - loss: 0.1124 - R2_score: 0.7786 - val_loss: 0.0691 - val_R2_score: 0.8030\n",
      "Epoch 8/100\n",
      "187s - loss: 0.1124 - R2_score: 0.7785 - val_loss: 0.0684 - val_R2_score: 0.8047\n",
      "Epoch 9/100\n",
      "189s - loss: 0.1126 - R2_score: 0.7781 - val_loss: 0.0657 - val_R2_score: 0.8130\n",
      "Epoch 10/100\n",
      "198s - loss: 0.1125 - R2_score: 0.7783 - val_loss: 0.0698 - val_R2_score: 0.8010\n",
      "Epoch 11/100\n",
      "201s - loss: 0.1123 - R2_score: 0.7788 - val_loss: 0.0645 - val_R2_score: 0.8169\n",
      "Epoch 12/100\n",
      "161s - loss: 0.1124 - R2_score: 0.7785 - val_loss: 0.0651 - val_R2_score: 0.8151\n",
      "Epoch 13/100\n",
      "189s - loss: 0.1123 - R2_score: 0.7789 - val_loss: 0.0660 - val_R2_score: 0.8121\n",
      "Epoch 14/100\n",
      "162s - loss: 0.1121 - R2_score: 0.7791 - val_loss: 0.0664 - val_R2_score: 0.8111\n",
      "Epoch 15/100\n",
      "193s - loss: 0.1122 - R2_score: 0.7790 - val_loss: 0.0702 - val_R2_score: 0.7995\n",
      "Epoch 16/100\n",
      "160s - loss: 0.1124 - R2_score: 0.7785 - val_loss: 0.0643 - val_R2_score: 0.8176\n",
      "Epoch 17/100\n",
      "187s - loss: 0.1124 - R2_score: 0.7787 - val_loss: 0.0658 - val_R2_score: 0.8132\n",
      "Epoch 18/100\n",
      "161s - loss: 0.1122 - R2_score: 0.7791 - val_loss: 0.0651 - val_R2_score: 0.8153\n",
      "Epoch 19/100\n",
      "191s - loss: 0.1122 - R2_score: 0.7791 - val_loss: 0.0679 - val_R2_score: 0.8063\n",
      "Epoch 20/100\n",
      "161s - loss: 0.1121 - R2_score: 0.7792 - val_loss: 0.0652 - val_R2_score: 0.8147\n",
      "Epoch 21/100\n",
      "185s - loss: 0.1121 - R2_score: 0.7793 - val_loss: 0.0667 - val_R2_score: 0.8103\n",
      "Epoch 22/100\n",
      "160s - loss: 0.1120 - R2_score: 0.7796 - val_loss: 0.0647 - val_R2_score: 0.8162\n",
      "Epoch 23/100\n",
      "188s - loss: 0.1120 - R2_score: 0.7794 - val_loss: 0.0654 - val_R2_score: 0.8142\n",
      "Epoch 24/100\n",
      "161s - loss: 0.1121 - R2_score: 0.7793 - val_loss: 0.0679 - val_R2_score: 0.8068\n",
      "Epoch 25/100\n",
      "185s - loss: 0.1118 - R2_score: 0.7798 - val_loss: 0.0650 - val_R2_score: 0.8156\n",
      "Epoch 26/100\n",
      "190s - loss: 0.1121 - R2_score: 0.7792 - val_loss: 0.0662 - val_R2_score: 0.8116\n",
      "Epoch 27/100\n",
      "163s - loss: 0.1119 - R2_score: 0.7797 - val_loss: 0.0648 - val_R2_score: 0.8160\n",
      "Epoch 28/100\n",
      "189s - loss: 0.1119 - R2_score: 0.7798 - val_loss: 0.0665 - val_R2_score: 0.8112\n",
      "Epoch 29/100\n",
      "163s - loss: 0.1117 - R2_score: 0.7799 - val_loss: 0.0647 - val_R2_score: 0.8164\n",
      "Epoch 30/100\n",
      "193s - loss: 0.1117 - R2_score: 0.7801 - val_loss: 0.0656 - val_R2_score: 0.8137\n",
      "Epoch 31/100\n",
      "169s - loss: 0.1119 - R2_score: 0.7797 - val_loss: 0.0647 - val_R2_score: 0.8164\n",
      "Epoch 32/100\n",
      "181s - loss: 0.1118 - R2_score: 0.7799 - val_loss: 0.0653 - val_R2_score: 0.8146\n",
      "Epoch 33/100\n",
      "161s - loss: 0.1117 - R2_score: 0.7802 - val_loss: 0.0670 - val_R2_score: 0.8096\n",
      "Epoch 34/100\n",
      "172s - loss: 0.1117 - R2_score: 0.7800 - val_loss: 0.0657 - val_R2_score: 0.8132\n",
      "Epoch 35/100\n",
      "179s - loss: 0.1114 - R2_score: 0.7808 - val_loss: 0.0652 - val_R2_score: 0.8147\n",
      "Epoch 36/100\n",
      "161s - loss: 0.1114 - R2_score: 0.7807 - val_loss: 0.0643 - val_R2_score: 0.8180\n",
      "Epoch 37/100\n",
      "176s - loss: 0.1113 - R2_score: 0.7809 - val_loss: 0.0644 - val_R2_score: 0.8176\n",
      "Epoch 38/100\n",
      "173s - loss: 0.1113 - R2_score: 0.7808 - val_loss: 0.0665 - val_R2_score: 0.8110\n",
      "Epoch 39/100\n",
      "163s - loss: 0.1113 - R2_score: 0.7808 - val_loss: 0.0658 - val_R2_score: 0.8133\n",
      "Epoch 40/100\n",
      "160s - loss: 0.1114 - R2_score: 0.7807 - val_loss: 0.0644 - val_R2_score: 0.8175\n",
      "Epoch 41/100\n",
      "189s - loss: 0.1112 - R2_score: 0.7812 - val_loss: 0.0648 - val_R2_score: 0.8162\n",
      "Epoch 42/100\n",
      "160s - loss: 0.1114 - R2_score: 0.7807 - val_loss: 0.0651 - val_R2_score: 0.8151\n",
      "Epoch 43/100\n",
      "187s - loss: 0.1111 - R2_score: 0.7814 - val_loss: 0.0649 - val_R2_score: 0.8158\n",
      "Epoch 44/100\n",
      "165s - loss: 0.1112 - R2_score: 0.7813 - val_loss: 0.0639 - val_R2_score: 0.8193\n",
      "Epoch 45/100\n",
      "184s - loss: 0.1109 - R2_score: 0.7817 - val_loss: 0.0656 - val_R2_score: 0.8135\n",
      "Epoch 46/100\n",
      "161s - loss: 0.1109 - R2_score: 0.7818 - val_loss: 0.0639 - val_R2_score: 0.8190\n",
      "Epoch 47/100\n",
      "189s - loss: 0.1109 - R2_score: 0.7819 - val_loss: 0.0645 - val_R2_score: 0.8170\n",
      "Epoch 48/100\n",
      "160s - loss: 0.1110 - R2_score: 0.7815 - val_loss: 0.0655 - val_R2_score: 0.8139\n",
      "Epoch 49/100\n",
      "189s - loss: 0.1109 - R2_score: 0.7818 - val_loss: 0.0641 - val_R2_score: 0.8184\n",
      "Epoch 50/100\n",
      "166s - loss: 0.1109 - R2_score: 0.7819 - val_loss: 0.0651 - val_R2_score: 0.8154\n",
      "Epoch 51/100\n",
      "186s - loss: 0.1110 - R2_score: 0.7815 - val_loss: 0.0660 - val_R2_score: 0.8125\n",
      "Epoch 52/100\n",
      "160s - loss: 0.1107 - R2_score: 0.7821 - val_loss: 0.0650 - val_R2_score: 0.8156\n",
      "Epoch 53/100\n",
      "160s - loss: 0.1109 - R2_score: 0.7819 - val_loss: 0.0655 - val_R2_score: 0.8138\n",
      "Epoch 54/100\n",
      "192s - loss: 0.1108 - R2_score: 0.7820 - val_loss: 0.0661 - val_R2_score: 0.8125\n",
      "Epoch 55/100\n",
      "163s - loss: 0.1108 - R2_score: 0.7820 - val_loss: 0.0653 - val_R2_score: 0.8149\n",
      "Epoch 56/100\n",
      "185s - loss: 0.1106 - R2_score: 0.7824 - val_loss: 0.0636 - val_R2_score: 0.8199\n",
      "Epoch 57/100\n",
      "161s - loss: 0.1105 - R2_score: 0.7826 - val_loss: 0.0640 - val_R2_score: 0.8187\n",
      "Epoch 58/100\n",
      "190s - loss: 0.1109 - R2_score: 0.7819 - val_loss: 0.0646 - val_R2_score: 0.8169\n",
      "Epoch 59/100\n",
      "193s - loss: 0.1107 - R2_score: 0.7821 - val_loss: 0.0643 - val_R2_score: 0.8176\n",
      "Epoch 60/100\n",
      "174s - loss: 0.1109 - R2_score: 0.7818 - val_loss: 0.0658 - val_R2_score: 0.8131\n",
      "Epoch 61/100\n",
      "188s - loss: 0.1106 - R2_score: 0.7824 - val_loss: 0.0638 - val_R2_score: 0.8192\n",
      "Epoch 62/100\n",
      "168s - loss: 0.1104 - R2_score: 0.7828 - val_loss: 0.0651 - val_R2_score: 0.8153\n",
      "Epoch 63/100\n",
      "182s - loss: 0.1104 - R2_score: 0.7829 - val_loss: 0.0674 - val_R2_score: 0.8084\n",
      "Epoch 64/100\n",
      "187s - loss: 0.1106 - R2_score: 0.7825 - val_loss: 0.0641 - val_R2_score: 0.8183\n",
      "Epoch 65/100\n",
      "174s - loss: 0.1106 - R2_score: 0.7823 - val_loss: 0.0636 - val_R2_score: 0.8201\n",
      "Epoch 66/100\n",
      "175s - loss: 0.1104 - R2_score: 0.7829 - val_loss: 0.0644 - val_R2_score: 0.8172\n",
      "Epoch 67/100\n",
      "184s - loss: 0.1103 - R2_score: 0.7832 - val_loss: 0.0631 - val_R2_score: 0.8217\n",
      "Epoch 68/100\n",
      "168s - loss: 0.1102 - R2_score: 0.7834 - val_loss: 0.0639 - val_R2_score: 0.8190\n",
      "Epoch 69/100\n",
      "180s - loss: 0.1104 - R2_score: 0.7828 - val_loss: 0.0658 - val_R2_score: 0.8133\n",
      "Epoch 70/100\n",
      "168s - loss: 0.1104 - R2_score: 0.7830 - val_loss: 0.0642 - val_R2_score: 0.8183\n",
      "Epoch 71/100\n",
      "190s - loss: 0.1104 - R2_score: 0.7829 - val_loss: 0.0638 - val_R2_score: 0.8195\n",
      "Epoch 72/100\n",
      "168s - loss: 0.1101 - R2_score: 0.7834 - val_loss: 0.0648 - val_R2_score: 0.8165\n",
      "Epoch 73/100\n",
      "189s - loss: 0.1099 - R2_score: 0.7839 - val_loss: 0.0646 - val_R2_score: 0.8170\n",
      "Epoch 74/100\n",
      "186s - loss: 0.1099 - R2_score: 0.7841 - val_loss: 0.0658 - val_R2_score: 0.8134\n",
      "Epoch 75/100\n",
      "166s - loss: 0.1100 - R2_score: 0.7836 - val_loss: 0.0639 - val_R2_score: 0.8189\n",
      "Epoch 76/100\n",
      "190s - loss: 0.1099 - R2_score: 0.7838 - val_loss: 0.0641 - val_R2_score: 0.8187\n",
      "Epoch 77/100\n",
      "165s - loss: 0.1101 - R2_score: 0.7835 - val_loss: 0.0670 - val_R2_score: 0.8096\n",
      "Epoch 78/100\n",
      "188s - loss: 0.1098 - R2_score: 0.7842 - val_loss: 0.0636 - val_R2_score: 0.8201\n",
      "Epoch 79/100\n",
      "160s - loss: 0.1098 - R2_score: 0.7840 - val_loss: 0.0647 - val_R2_score: 0.8169\n",
      "Epoch 80/100\n",
      "188s - loss: 0.1100 - R2_score: 0.7837 - val_loss: 0.0648 - val_R2_score: 0.8165\n",
      "Epoch 81/100\n",
      "184s - loss: 0.1096 - R2_score: 0.7847 - val_loss: 0.0673 - val_R2_score: 0.8086\n",
      "Epoch 82/100\n",
      "161s - loss: 0.1098 - R2_score: 0.7841 - val_loss: 0.0640 - val_R2_score: 0.8190\n",
      "Epoch 83/100\n",
      "191s - loss: 0.1096 - R2_score: 0.7845 - val_loss: 0.0644 - val_R2_score: 0.8176\n",
      "Epoch 84/100\n",
      "161s - loss: 0.1096 - R2_score: 0.7844 - val_loss: 0.0633 - val_R2_score: 0.8208\n",
      "Epoch 85/100\n",
      "162s - loss: 0.1095 - R2_score: 0.7848 - val_loss: 0.0640 - val_R2_score: 0.8191\n",
      "Epoch 86/100\n",
      "194s - loss: 0.1097 - R2_score: 0.7845 - val_loss: 0.0635 - val_R2_score: 0.8202\n",
      "Epoch 87/100\n",
      "162s - loss: 0.1096 - R2_score: 0.7845 - val_loss: 0.0647 - val_R2_score: 0.8168\n",
      "Epoch 88/100\n"
     ]
    },
    {
     "name": "stdout",
     "output_type": "stream",
     "text": [
      "161s - loss: 0.1093 - R2_score: 0.7853 - val_loss: 0.0634 - val_R2_score: 0.8206\n",
      "Epoch 89/100\n",
      "199s - loss: 0.1095 - R2_score: 0.7848 - val_loss: 0.0642 - val_R2_score: 0.8181\n",
      "Epoch 90/100\n",
      "163s - loss: 0.1097 - R2_score: 0.7843 - val_loss: 0.0638 - val_R2_score: 0.8196\n",
      "Epoch 91/100\n",
      "194s - loss: 0.1094 - R2_score: 0.7848 - val_loss: 0.0627 - val_R2_score: 0.8231\n",
      "Epoch 92/100\n",
      "161s - loss: 0.1095 - R2_score: 0.7848 - val_loss: 0.0651 - val_R2_score: 0.8155\n",
      "Epoch 93/100\n",
      "191s - loss: 0.1094 - R2_score: 0.7851 - val_loss: 0.0637 - val_R2_score: 0.8198\n",
      "Epoch 94/100\n",
      "160s - loss: 0.1093 - R2_score: 0.7852 - val_loss: 0.0658 - val_R2_score: 0.8133\n",
      "Epoch 95/100\n",
      "191s - loss: 0.1092 - R2_score: 0.7853 - val_loss: 0.0644 - val_R2_score: 0.8177\n",
      "Epoch 96/100\n",
      "160s - loss: 0.1092 - R2_score: 0.7853 - val_loss: 0.0639 - val_R2_score: 0.8193\n",
      "Epoch 97/100\n",
      "193s - loss: 0.1093 - R2_score: 0.7852 - val_loss: 0.0636 - val_R2_score: 0.8199\n",
      "Epoch 98/100\n",
      "160s - loss: 0.1095 - R2_score: 0.7848 - val_loss: 0.0655 - val_R2_score: 0.8142\n",
      "Epoch 99/100\n",
      "161s - loss: 0.1091 - R2_score: 0.7855 - val_loss: 0.0634 - val_R2_score: 0.8209\n",
      "Epoch 100/100\n",
      "190s - loss: 0.1091 - R2_score: 0.7858 - val_loss: 0.0652 - val_R2_score: 0.8152\n"
     ]
    }
   ],
   "source": [
    "# model training (100 more epochs) (takes REALLY long time)\n",
    "\n",
    "training_history3 = RNA_to_RNA.fit(RNA_img, RNA_img,\n",
    "                                  epochs=100,\n",
    "                                  validation_split=0.2,\n",
    "                                  verbose=2\n",
    "                                  )"
   ]
  },
  {
   "cell_type": "code",
   "execution_count": 8,
   "metadata": {
    "collapsed": true
   },
   "outputs": [],
   "source": [
    "# save weights of our model\n",
    "\n",
    "if m == 32:\n",
    "    RNA_weights_name = './models/rna_to_rna_binary_classic.h5'\n",
    "elif m == 20:\n",
    "    RNA_weights_name = './models/rna_to_rna_binary_alternative_image.h5'"
   ]
  },
  {
   "cell_type": "code",
   "execution_count": 11,
   "metadata": {},
   "outputs": [],
   "source": [
    "RNA_to_RNA.save_weights(RNA_weights_name)"
   ]
  },
  {
   "cell_type": "code",
   "execution_count": 38,
   "metadata": {},
   "outputs": [
    {
     "data": {
      "image/png": "[encoded data removed]",
      "text/plain": [
       "<matplotlib.figure.Figure at 0x204a6684d30>"
      ]
     },
     "metadata": {},
     "output_type": "display_data"
    },
    {
     "data": {
      "image/png": "[encoded data removed]",
      "text/plain": [
       "<matplotlib.figure.Figure at 0x204a6684f98>"
      ]
     },
     "metadata": {},
     "output_type": "display_data"
    },
    {
     "data": {
      "image/png": "[encoded data removed]",
      "text/plain": [
       "<matplotlib.figure.Figure at 0x204a6df7e80>"
      ]
     },
     "metadata": {},
     "output_type": "display_data"
    }
   ],
   "source": [
    "# have a look at the loss, validation loss and mistake\n",
    "\n",
    "plt.plot(training_history.history['loss'])\n",
    "plt.title('loss')\n",
    "plt.show()\n",
    "plt.plot(training_history.history['val_loss'])\n",
    "plt.title('validation loss')\n",
    "plt.show()\n",
    "plt.plot(training_history.history['R2_score'])\n",
    "plt.title('R2 score (32x20 image)')\n",
    "plt.show()"
   ]
  },
  {
   "cell_type": "code",
   "execution_count": 20,
   "metadata": {},
   "outputs": [],
   "source": [
    "# load weights (only if necessary!)\n",
    "\n",
    "RNA_to_RNA.load_weights(RNA_weights_name)"
   ]
  },
  {
   "cell_type": "code",
   "execution_count": 24,
   "metadata": {},
   "outputs": [
    {
     "name": "stdout",
     "output_type": "stream",
     "text": [
      "\n",
      "Object no. 19657\n"
     ]
    },
    {
     "data": {
      "image/png": "[encoded data removed]",
      "text/plain": [
       "<matplotlib.figure.Figure at 0x2a78d9fefd0>"
      ]
     },
     "metadata": {},
     "output_type": "display_data"
    },
    {
     "name": "stdout",
     "output_type": "stream",
     "text": [
      "False pixels: 12.0 from 640\n"
     ]
    }
   ],
   "source": [
    "n = 19657\n",
    "print('\\nObject no.', n)\n",
    "\n",
    "plt.subplot(1,2,1)\n",
    "plt.imshow(RNA_img[n].reshape(32,20))\n",
    "plt.title('Predicted')\n",
    "plt.subplot(1,2,2)\n",
    "plt.imshow(RNA_img[n].reshape(32,20))\n",
    "plt.title('Original')\n",
    "plt.show()\n",
    "\n",
    "print(\"False pixels: 12.0 from 640\")"
   ]
  },
  {
   "cell_type": "code",
   "execution_count": 12,
   "metadata": {},
   "outputs": [
    {
     "name": "stdout",
     "output_type": "stream",
     "text": [
      "\n",
      "Object no. 3919\n",
      "[ 1075.   950.   619.   611.   599.   984.   678.   746.   847.   807.\n",
      "  1236.   579.   698.   573.   531.  1003.   618.  1070.  1024.   961.\n",
      "   546.   723.   805.  1764.  2448.  1428.   802.   834.  1789.  1108.\n",
      "  2115.  2818.]\n",
      "[[[0 0 0 0 0 0 0 0 0 1 0 0 0 0 1 1 0 0 1 1]\n",
      "  [0 0 0 0 0 0 0 0 0 0 1 1 1 0 1 1 0 1 1 0]\n",
      "  [0 0 0 0 0 0 0 0 0 0 1 0 0 1 1 0 1 0 1 1]\n",
      "  [0 0 0 0 0 0 0 0 0 0 1 0 0 1 1 0 0 0 1 1]\n",
      "  [0 0 0 0 0 0 0 0 0 0 1 0 0 1 0 1 0 1 1 1]\n",
      "  [0 0 0 0 0 0 0 0 0 0 1 1 1 1 0 1 1 0 0 0]\n",
      "  [0 0 0 0 0 0 0 0 0 0 1 0 1 0 1 0 0 1 1 0]\n",
      "  [0 0 0 0 0 0 0 0 0 0 1 0 1 1 1 0 1 0 1 0]\n",
      "  [0 0 0 0 0 0 0 0 0 0 1 1 0 1 0 0 1 1 1 1]\n",
      "  [0 0 0 0 0 0 0 0 0 0 1 1 0 0 1 0 0 1 1 1]\n",
      "  [0 0 0 0 0 0 0 0 0 1 0 0 1 1 0 1 0 1 0 0]\n",
      "  [0 0 0 0 0 0 0 0 0 0 1 0 0 1 0 0 0 0 1 1]\n",
      "  [0 0 0 0 0 0 0 0 0 0 1 0 1 0 1 1 1 0 1 0]\n",
      "  [0 0 0 0 0 0 0 0 0 0 1 0 0 0 1 1 1 1 0 1]\n",
      "  [0 0 0 0 0 0 0 0 0 0 1 0 0 0 0 1 0 0 1 1]\n",
      "  [0 0 0 0 0 0 0 0 0 0 1 1 1 1 1 0 1 0 1 1]\n",
      "  [0 0 0 0 0 0 0 0 0 0 1 0 0 1 1 0 1 0 1 0]\n",
      "  [0 0 0 0 0 0 0 0 0 1 0 0 0 0 1 0 1 1 1 0]\n",
      "  [0 0 0 0 0 0 0 0 0 1 0 0 0 0 0 0 0 0 0 0]\n",
      "  [0 0 0 0 0 0 0 0 0 0 1 1 1 1 0 0 0 0 0 1]\n",
      "  [0 0 0 0 0 0 0 0 0 0 1 0 0 0 1 0 0 0 1 0]\n",
      "  [0 0 0 0 0 0 0 0 0 0 1 0 1 1 0 1 0 0 1 1]\n",
      "  [0 0 0 0 0 0 0 0 0 0 1 1 0 0 1 0 0 1 0 1]\n",
      "  [0 0 0 0 0 0 0 0 0 1 1 0 1 1 1 0 0 1 0 0]\n",
      "  [0 0 0 0 0 0 0 0 1 0 0 1 1 0 0 1 0 0 0 0]\n",
      "  [0 0 0 0 0 0 0 0 0 1 0 1 1 0 0 1 0 1 0 0]\n",
      "  [0 0 0 0 0 0 0 0 0 0 1 1 0 0 1 0 0 0 1 0]\n",
      "  [0 0 0 0 0 0 0 0 0 0 1 1 0 1 0 0 0 0 1 0]\n",
      "  [0 0 0 0 0 0 0 0 0 1 1 0 1 1 1 1 1 1 0 1]\n",
      "  [0 0 0 0 0 0 0 0 0 1 0 0 0 1 0 1 0 1 0 0]\n",
      "  [0 0 0 0 0 0 0 0 1 0 0 0 0 1 0 0 0 0 1 1]\n",
      "  [0 0 0 0 0 0 0 0 1 0 1 1 0 0 0 0 0 0 1 0]]]\n"
     ]
    },
    {
     "data": {
      "image/png": "[encoded data removed]",
      "text/plain": [
       "<matplotlib.figure.Figure at 0x1f59bc120b8>"
      ]
     },
     "metadata": {},
     "output_type": "display_data"
    }
   ],
   "source": [
    "n = sample(range(1,len(RNA) + 1), 1)[0]\n",
    "print('\\nObject no.', n)\n",
    "\n",
    "print(RNA[n])\n",
    "print(RNA_img[n])\n",
    "plt.imshow(RNA_img[n].reshape(32,20))\n",
    "plt.show()"
   ]
  },
  {
   "cell_type": "code",
   "execution_count": 25,
   "metadata": {},
   "outputs": [
    {
     "name": "stdout",
     "output_type": "stream",
     "text": [
      "\n",
      "Object no. 19155\n"
     ]
    },
    {
     "data": {
      "image/png": "[encoded data removed]",
      "text/plain": [
       "<matplotlib.figure.Figure at 0x2a783fdb5f8>"
      ]
     },
     "metadata": {},
     "output_type": "display_data"
    },
    {
     "name": "stdout",
     "output_type": "stream",
     "text": [
      "False pixels:  283.0 from 640\n",
      "\n",
      "Object no. 11824\n"
     ]
    },
    {
     "data": {
      "image/png": "[encoded data removed]",
      "text/plain": [
       "<matplotlib.figure.Figure at 0x2a78dca8f60>"
      ]
     },
     "metadata": {},
     "output_type": "display_data"
    },
    {
     "name": "stdout",
     "output_type": "stream",
     "text": [
      "False pixels:  290.0 from 640\n",
      "\n",
      "Object no. 4319\n"
     ]
    },
    {
     "data": {
      "image/png": "[encoded data removed]",
      "text/plain": [
       "<matplotlib.figure.Figure at 0x2a78daecbe0>"
      ]
     },
     "metadata": {},
     "output_type": "display_data"
    },
    {
     "name": "stdout",
     "output_type": "stream",
     "text": [
      "False pixels:  277.0 from 640\n",
      "\n",
      "Object no. 18501\n"
     ]
    },
    {
     "data": {
      "image/png": "[encoded data removed]",
      "text/plain": [
       "<matplotlib.figure.Figure at 0x2a7841e75f8>"
      ]
     },
     "metadata": {},
     "output_type": "display_data"
    },
    {
     "name": "stdout",
     "output_type": "stream",
     "text": [
      "False pixels:  286.0 from 640\n",
      "\n",
      "Object no. 4061\n"
     ]
    },
    {
     "data": {
      "image/png": "[encoded data removed]",
      "text/plain": [
       "<matplotlib.figure.Figure at 0x2a78ddfd0b8>"
      ]
     },
     "metadata": {},
     "output_type": "display_data"
    },
    {
     "name": "stdout",
     "output_type": "stream",
     "text": [
      "False pixels:  306.0 from 640\n",
      "\n",
      "Object no. 3318\n"
     ]
    },
    {
     "data": {
      "image/png": "[encoded data removed]",
      "text/plain": [
       "<matplotlib.figure.Figure at 0x2a78e022a58>"
      ]
     },
     "metadata": {},
     "output_type": "display_data"
    },
    {
     "name": "stdout",
     "output_type": "stream",
     "text": [
      "False pixels:  273.0 from 640\n",
      "\n",
      "Object no. 127\n"
     ]
    },
    {
     "data": {
      "image/png": "[encoded data removed]",
      "text/plain": [
       "<matplotlib.figure.Figure at 0x2a78df6a6d8>"
      ]
     },
     "metadata": {},
     "output_type": "display_data"
    },
    {
     "name": "stdout",
     "output_type": "stream",
     "text": [
      "False pixels:  269.0 from 640\n",
      "\n",
      "Object no. 6325\n"
     ]
    },
    {
     "data": {
      "image/png": "[encoded data removed]",
      "text/plain": [
       "<matplotlib.figure.Figure at 0x2a78de4b828>"
      ]
     },
     "metadata": {},
     "output_type": "display_data"
    },
    {
     "name": "stdout",
     "output_type": "stream",
     "text": [
      "False pixels:  276.0 from 640\n",
      "\n",
      "Object no. 10305\n"
     ]
    },
    {
     "data": {
      "image/png": "[encoded data removed]",
      "text/plain": [
       "<matplotlib.figure.Figure at 0x2a78dff34e0>"
      ]
     },
     "metadata": {},
     "output_type": "display_data"
    },
    {
     "name": "stdout",
     "output_type": "stream",
     "text": [
      "False pixels:  270.0 from 640\n",
      "\n",
      "Object no. 13193\n"
     ]
    },
    {
     "data": {
      "image/png": "[encoded data removed]",
      "text/plain": [
       "<matplotlib.figure.Figure at 0x2a78e1e9198>"
      ]
     },
     "metadata": {},
     "output_type": "display_data"
    },
    {
     "name": "stdout",
     "output_type": "stream",
     "text": [
      "False pixels:  285.0 from 640\n"
     ]
    }
   ],
   "source": [
    "# have a look at predicted and original image\n",
    "\n",
    "for i in range(10):\n",
    "    n = sample(range(1,len(RNA) + 1), 1)[0]\n",
    "    print('\\nObject no.', n)\n",
    "\n",
    "    RNA_img_test = np.round(RNA_to_RNA.predict(np.array([RNA_img[n]])))\n",
    "\n",
    "    plt.subplot(1,2,1)\n",
    "    plt.imshow(RNA_img_test.reshape(20,32))\n",
    "    plt.title('Predicted')\n",
    "    plt.subplot(1,2,2)\n",
    "    plt.imshow(RNA_img[n].reshape(20,32))\n",
    "    plt.title('Original')\n",
    "    plt.show()\n",
    "\n",
    "    print(\"False pixels: \", np.sum(np.absolute(RNA_img_test.reshape(32,20) - RNA_img[n].reshape(32,20))), \"from 640\")"
   ]
  }
 ],
 "metadata": {
  "kernelspec": {
   "display_name": "Python 3",
   "language": "python",
   "name": "python3"
  },
  "language_info": {
   "codemirror_mode": {
    "name": "ipython",
    "version": 3
   },
   "file_extension": ".py",
   "mimetype": "text/x-python",
   "name": "python",
   "nbconvert_exporter": "python",
   "pygments_lexer": "ipython3",
   "version": "3.6.1"
  }
 },
 "nbformat": 4,
 "nbformat_minor": 2
}
